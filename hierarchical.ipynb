{
 "cells": [
  {
   "cell_type": "code",
   "execution_count": 1,
   "metadata": {},
   "outputs": [],
   "source": [
    "import pandas as pd\n",
    "import numpy as np"
   ]
  },
  {
   "cell_type": "code",
   "execution_count": 2,
   "metadata": {},
   "outputs": [
    {
     "data": {
      "text/plain": [
       "sepal length (cm)    0\n",
       "sepal width (cm)     0\n",
       "petal length (cm)    0\n",
       "petal width (cm)     0\n",
       "dtype: int64"
      ]
     },
     "execution_count": 2,
     "metadata": {},
     "output_type": "execute_result"
    }
   ],
   "source": [
    "from sklearn.datasets import load_iris\n",
    "\n",
    "iris = load_iris()\n",
    "X = iris.data\n",
    "y = iris.target\n",
    "\n",
    "X = pd.DataFrame(X, columns=iris.feature_names)\n",
    "\n",
    "X.isnull().sum()"
   ]
  },
  {
   "cell_type": "code",
   "execution_count": 6,
   "metadata": {},
   "outputs": [],
   "source": [
    "from sklearn.preprocessing import StandardScaler\n",
    "from sklearn.cluster import AgglomerativeClustering\n",
    "from sklearn.decomposition import PCA\n",
    "\n",
    "\n",
    "\n",
    "def preprocess_data(X, method):\n",
    "    if method == 'Normalization':\n",
    "        scaler = StandardScaler()\n",
    "        xfit = scaler.fit_transform(X)\n",
    "        X_preprocessed = pd.DataFrame(xfit, columns=X.columns)\n",
    "    elif method == 'Transformation':\n",
    "        # Apply any transformation technique if needed\n",
    "        X_preprocessed = X \n",
    "    elif method == 'PCA':\n",
    "        pca = PCA(n_components=2)\n",
    "        X_pca = pca.fit_transform(X)\n",
    "        X_preprocessed = pd.DataFrame(X_pca, columns=['PC1', 'PC2'])\n",
    "    elif method == 'T+N':\n",
    "        scaler = StandardScaler()  # Use StandardScaler for normalization\n",
    "        X_normalized = scaler.fit_transform(X)\n",
    "        # Apply logarithmic transformation\n",
    "        X_preprocessed = pd.DataFrame(np.log1p(X_normalized), columns=X.columns)\n",
    "    elif method == 'T+N+PCA':\n",
    "        scaler = StandardScaler()  # Use StandardScaler for normalization\n",
    "        X_normalized = scaler.fit_transform(X)\n",
    "        pca = PCA(n_components=2)\n",
    "        X_pca = pca.fit_transform(X_normalized)\n",
    "        X_preprocessed = pd.DataFrame(X_pca, columns=['PC1', 'PC2'])\n",
    "    else:\n",
    "        X_preprocessed = X\n",
    "    return X_preprocessed\n",
    "\n",
    "\n",
    "\n",
    "\n",
    "def perform_clustering(X, n_clusters):\n",
    "    clustering = AgglomerativeClustering(n_clusters=n_clusters)\n",
    "    labels = clustering.fit_predict(X)\n",
    "    return labels\n",
    "\n"
   ]
  },
  {
   "cell_type": "code",
   "execution_count": 7,
   "metadata": {},
   "outputs": [],
   "source": [
    "preprocessing_methods = ['No Data Processing', 'Normalization', 'Transformation', 'PCA', 'T+N', 'T+N+PCA']\n",
    "cluster_numbers = [3, 4, 5]"
   ]
  },
  {
   "cell_type": "code",
   "execution_count": 8,
   "metadata": {},
   "outputs": [
    {
     "name": "stderr",
     "output_type": "stream",
     "text": [
      "/var/folders/2k/rv2cxkh11f99ykv5445b628c0000gn/T/ipykernel_22649/927692147.py:23: RuntimeWarning: invalid value encountered in log1p\n",
      "  X_preprocessed = pd.DataFrame(np.log1p(X_normalized), columns=X.columns)\n",
      "/var/folders/2k/rv2cxkh11f99ykv5445b628c0000gn/T/ipykernel_22649/927692147.py:23: RuntimeWarning: invalid value encountered in log1p\n",
      "  X_preprocessed = pd.DataFrame(np.log1p(X_normalized), columns=X.columns)\n",
      "/var/folders/2k/rv2cxkh11f99ykv5445b628c0000gn/T/ipykernel_22649/927692147.py:23: RuntimeWarning: invalid value encountered in log1p\n",
      "  X_preprocessed = pd.DataFrame(np.log1p(X_normalized), columns=X.columns)\n"
     ]
    }
   ],
   "source": [
    "from sklearn.metrics import silhouette_score, calinski_harabasz_score, davies_bouldin_score\n",
    "\n",
    "results = {}\n",
    "for method in preprocessing_methods:\n",
    "    for n_clusters in cluster_numbers:\n",
    "        X_processed = preprocess_data(X, method)\n",
    "        \n",
    "        # Drop rows with missing values\n",
    "        X_processed = X_processed.dropna()\n",
    "        \n",
    "        labels = perform_clustering(X_processed, n_clusters)\n",
    "        silhouette = silhouette_score(X_processed, labels)\n",
    "        calinski_harabasz = calinski_harabasz_score(X_processed, labels)\n",
    "        davies_bouldin = davies_bouldin_score(X_processed, labels)\n",
    "        results[(method, n_clusters)] = {'Silhouette': silhouette, 'Calinski-Harabasz': calinski_harabasz, 'Davies-Bouldin': davies_bouldin}\n",
    "        \n",
    "new = pd.DataFrame.from_dict(results)\n"
   ]
  },
  {
   "cell_type": "code",
   "execution_count": 9,
   "metadata": {},
   "outputs": [
    {
     "data": {
      "text/html": [
       "<div>\n",
       "<style scoped>\n",
       "    .dataframe tbody tr th:only-of-type {\n",
       "        vertical-align: middle;\n",
       "    }\n",
       "\n",
       "    .dataframe tbody tr th {\n",
       "        vertical-align: top;\n",
       "    }\n",
       "\n",
       "    .dataframe thead tr th {\n",
       "        text-align: left;\n",
       "    }\n",
       "</style>\n",
       "<table border=\"1\" class=\"dataframe\">\n",
       "  <thead>\n",
       "    <tr>\n",
       "      <th></th>\n",
       "      <th colspan=\"3\" halign=\"left\">No Data Processing</th>\n",
       "      <th colspan=\"3\" halign=\"left\">Normalization</th>\n",
       "      <th colspan=\"3\" halign=\"left\">Transformation</th>\n",
       "      <th colspan=\"3\" halign=\"left\">PCA</th>\n",
       "      <th colspan=\"3\" halign=\"left\">T+N</th>\n",
       "      <th colspan=\"3\" halign=\"left\">T+N+PCA</th>\n",
       "    </tr>\n",
       "    <tr>\n",
       "      <th></th>\n",
       "      <th>3</th>\n",
       "      <th>4</th>\n",
       "      <th>5</th>\n",
       "      <th>3</th>\n",
       "      <th>4</th>\n",
       "      <th>5</th>\n",
       "      <th>3</th>\n",
       "      <th>4</th>\n",
       "      <th>5</th>\n",
       "      <th>3</th>\n",
       "      <th>4</th>\n",
       "      <th>5</th>\n",
       "      <th>3</th>\n",
       "      <th>4</th>\n",
       "      <th>5</th>\n",
       "      <th>3</th>\n",
       "      <th>4</th>\n",
       "      <th>5</th>\n",
       "    </tr>\n",
       "  </thead>\n",
       "  <tbody>\n",
       "    <tr>\n",
       "      <th>Silhouette</th>\n",
       "      <td>0.554324</td>\n",
       "      <td>0.488967</td>\n",
       "      <td>0.484383</td>\n",
       "      <td>0.446689</td>\n",
       "      <td>0.400636</td>\n",
       "      <td>0.330587</td>\n",
       "      <td>0.554324</td>\n",
       "      <td>0.488967</td>\n",
       "      <td>0.484383</td>\n",
       "      <td>0.598475</td>\n",
       "      <td>0.540977</td>\n",
       "      <td>0.548784</td>\n",
       "      <td>0.296722</td>\n",
       "      <td>0.273166</td>\n",
       "      <td>0.259903</td>\n",
       "      <td>0.511060</td>\n",
       "      <td>0.448735</td>\n",
       "      <td>0.404169</td>\n",
       "    </tr>\n",
       "    <tr>\n",
       "      <th>Calinski-Harabasz</th>\n",
       "      <td>558.058041</td>\n",
       "      <td>515.078906</td>\n",
       "      <td>488.484904</td>\n",
       "      <td>222.719164</td>\n",
       "      <td>201.251454</td>\n",
       "      <td>192.681283</td>\n",
       "      <td>558.058041</td>\n",
       "      <td>515.078906</td>\n",
       "      <td>488.484904</td>\n",
       "      <td>688.617548</td>\n",
       "      <td>673.946264</td>\n",
       "      <td>665.883112</td>\n",
       "      <td>50.378841</td>\n",
       "      <td>43.311413</td>\n",
       "      <td>39.706208</td>\n",
       "      <td>286.328664</td>\n",
       "      <td>254.090094</td>\n",
       "      <td>254.996196</td>\n",
       "    </tr>\n",
       "    <tr>\n",
       "      <th>Davies-Bouldin</th>\n",
       "      <td>0.656256</td>\n",
       "      <td>0.795264</td>\n",
       "      <td>0.820417</td>\n",
       "      <td>0.803467</td>\n",
       "      <td>0.978821</td>\n",
       "      <td>0.974249</td>\n",
       "      <td>0.656256</td>\n",
       "      <td>0.795264</td>\n",
       "      <td>0.820417</td>\n",
       "      <td>0.560496</td>\n",
       "      <td>0.654624</td>\n",
       "      <td>0.652573</td>\n",
       "      <td>1.111812</td>\n",
       "      <td>1.188096</td>\n",
       "      <td>1.165642</td>\n",
       "      <td>0.705430</td>\n",
       "      <td>0.722612</td>\n",
       "      <td>0.791250</td>\n",
       "    </tr>\n",
       "  </tbody>\n",
       "</table>\n",
       "</div>"
      ],
      "text/plain": [
       "                  No Data Processing                         Normalization  \\\n",
       "                                   3           4           5             3   \n",
       "Silhouette                  0.554324    0.488967    0.484383      0.446689   \n",
       "Calinski-Harabasz         558.058041  515.078906  488.484904    222.719164   \n",
       "Davies-Bouldin              0.656256    0.795264    0.820417      0.803467   \n",
       "\n",
       "                                          Transformation              \\\n",
       "                            4           5              3           4   \n",
       "Silhouette           0.400636    0.330587       0.554324    0.488967   \n",
       "Calinski-Harabasz  201.251454  192.681283     558.058041  515.078906   \n",
       "Davies-Bouldin       0.978821    0.974249       0.656256    0.795264   \n",
       "\n",
       "                                      PCA                                T+N  \\\n",
       "                            5           3           4           5          3   \n",
       "Silhouette           0.484383    0.598475    0.540977    0.548784   0.296722   \n",
       "Calinski-Harabasz  488.484904  688.617548  673.946264  665.883112  50.378841   \n",
       "Davies-Bouldin       0.820417    0.560496    0.654624    0.652573   1.111812   \n",
       "\n",
       "                                            T+N+PCA                          \n",
       "                           4          5           3           4           5  \n",
       "Silhouette          0.273166   0.259903    0.511060    0.448735    0.404169  \n",
       "Calinski-Harabasz  43.311413  39.706208  286.328664  254.090094  254.996196  \n",
       "Davies-Bouldin      1.188096   1.165642    0.705430    0.722612    0.791250  "
      ]
     },
     "execution_count": 9,
     "metadata": {},
     "output_type": "execute_result"
    }
   ],
   "source": [
    "new"
   ]
  },
  {
   "cell_type": "code",
   "execution_count": 10,
   "metadata": {},
   "outputs": [],
   "source": [
    "new.to_csv('hierarchical.csv')"
   ]
  },
  {
   "cell_type": "code",
   "execution_count": null,
   "metadata": {},
   "outputs": [],
   "source": []
  }
 ],
 "metadata": {
  "kernelspec": {
   "display_name": "Python 3",
   "language": "python",
   "name": "python3"
  },
  "language_info": {
   "codemirror_mode": {
    "name": "ipython",
    "version": 3
   },
   "file_extension": ".py",
   "mimetype": "text/x-python",
   "name": "python",
   "nbconvert_exporter": "python",
   "pygments_lexer": "ipython3",
   "version": "3.9.6"
  }
 },
 "nbformat": 4,
 "nbformat_minor": 2
}
