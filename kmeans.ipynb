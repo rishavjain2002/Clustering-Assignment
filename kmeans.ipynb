{
 "cells": [
  {
   "cell_type": "code",
   "execution_count": 9,
   "metadata": {},
   "outputs": [],
   "source": [
    "import pandas as pd\n",
    "import numpy as np"
   ]
  },
  {
   "cell_type": "code",
   "execution_count": 10,
   "metadata": {},
   "outputs": [
    {
     "data": {
      "text/plain": [
       "sepal length (cm)    0\n",
       "sepal width (cm)     0\n",
       "petal length (cm)    0\n",
       "petal width (cm)     0\n",
       "dtype: int64"
      ]
     },
     "execution_count": 10,
     "metadata": {},
     "output_type": "execute_result"
    }
   ],
   "source": [
    "from sklearn.datasets import load_iris\n",
    "\n",
    "iris = load_iris()\n",
    "X = iris.data\n",
    "y = iris.target\n",
    "\n",
    "X = pd.DataFrame(X, columns=iris.feature_names)\n",
    "\n",
    "X.isnull().sum()"
   ]
  },
  {
   "cell_type": "code",
   "execution_count": 11,
   "metadata": {},
   "outputs": [],
   "source": [
    "from sklearn.preprocessing import StandardScaler\n",
    "from sklearn.cluster import KMeans\n",
    "from sklearn.decomposition import PCA\n",
    "\n",
    "\n",
    "\n",
    "def preprocess_data(X, method):\n",
    "    if method == 'Normalization':\n",
    "        scaler = StandardScaler()\n",
    "        X_preprocessed = pd.DataFrame(scaler.fit_transform(X), columns=X.columns)\n",
    "    elif method == 'Transformation':\n",
    "        # Apply any transformation technique if needed\n",
    "        X_preprocessed = X \n",
    "    elif method == 'PCA':\n",
    "        pca = PCA(n_components=2)\n",
    "        X_pca = pca.fit_transform(X)\n",
    "        X_preprocessed = pd.DataFrame(X_pca, columns=['PC1', 'PC2'])\n",
    "    elif method == 'T+N':\n",
    "        scaler = StandardScaler()  # Use StandardScaler for normalization\n",
    "        X_normalized = scaler.fit_transform(X)\n",
    "        # Apply logarithmic transformation\n",
    "        X_preprocessed = pd.DataFrame(np.log1p(X_normalized), columns=X.columns)\n",
    "    elif method == 'T+N+PCA':\n",
    "        scaler = StandardScaler()  # Use StandardScaler for normalization\n",
    "        X_normalized = scaler.fit_transform(X)\n",
    "        pca = PCA(n_components=2)\n",
    "        X_pca = pca.fit_transform(X_normalized)\n",
    "        X_preprocessed = pd.DataFrame(X_pca, columns=['PC1', 'PC2'])\n",
    "    else:\n",
    "        X_preprocessed = X\n",
    "    return X_preprocessed\n",
    "\n",
    "\n",
    "def perform_clustering(X, n_clusters):\n",
    "    kmeans = KMeans(n_clusters=n_clusters, random_state=42)\n",
    "    labels = kmeans.fit_predict(X)\n",
    "    return labels\n",
    "\n"
   ]
  },
  {
   "cell_type": "code",
   "execution_count": 12,
   "metadata": {},
   "outputs": [],
   "source": [
    "preprocessing_methods = ['No Data Processing', 'Normalization', 'Transformation', 'PCA', 'T+N', 'T+N+PCA']\n",
    "cluster_numbers = [3, 4, 5]"
   ]
  },
  {
   "cell_type": "code",
   "execution_count": 13,
   "metadata": {},
   "outputs": [
    {
     "name": "stderr",
     "output_type": "stream",
     "text": [
      "/var/folders/2k/rv2cxkh11f99ykv5445b628c0000gn/T/ipykernel_22073/4021950518.py:22: RuntimeWarning: invalid value encountered in log1p\n",
      "  X_preprocessed = pd.DataFrame(np.log1p(X_normalized), columns=X.columns)\n",
      "/var/folders/2k/rv2cxkh11f99ykv5445b628c0000gn/T/ipykernel_22073/4021950518.py:22: RuntimeWarning: invalid value encountered in log1p\n",
      "  X_preprocessed = pd.DataFrame(np.log1p(X_normalized), columns=X.columns)\n",
      "/var/folders/2k/rv2cxkh11f99ykv5445b628c0000gn/T/ipykernel_22073/4021950518.py:22: RuntimeWarning: invalid value encountered in log1p\n",
      "  X_preprocessed = pd.DataFrame(np.log1p(X_normalized), columns=X.columns)\n"
     ]
    }
   ],
   "source": [
    "from sklearn.metrics import silhouette_score, calinski_harabasz_score, davies_bouldin_score\n",
    "\n",
    "results = {}\n",
    "for method in preprocessing_methods:\n",
    "    for n_clusters in cluster_numbers:\n",
    "        X_processed = preprocess_data(X, method)\n",
    "        \n",
    "        # Drop rows with missing values\n",
    "        X_processed = X_processed.dropna()\n",
    "        \n",
    "        labels = perform_clustering(X_processed, n_clusters)\n",
    "        silhouette = silhouette_score(X_processed, labels)\n",
    "        calinski_harabasz = calinski_harabasz_score(X_processed, labels)\n",
    "        davies_bouldin = davies_bouldin_score(X_processed, labels)\n",
    "        results[(method, n_clusters)] = {'Silhouette': silhouette, 'Calinski-Harabasz': calinski_harabasz, 'Davies-Bouldin': davies_bouldin}\n",
    "        \n",
    "new = pd.DataFrame.from_dict(results)\n",
    "\n"
   ]
  },
  {
   "cell_type": "code",
   "execution_count": 14,
   "metadata": {},
   "outputs": [
    {
     "data": {
      "text/html": [
       "<div>\n",
       "<style scoped>\n",
       "    .dataframe tbody tr th:only-of-type {\n",
       "        vertical-align: middle;\n",
       "    }\n",
       "\n",
       "    .dataframe tbody tr th {\n",
       "        vertical-align: top;\n",
       "    }\n",
       "\n",
       "    .dataframe thead tr th {\n",
       "        text-align: left;\n",
       "    }\n",
       "</style>\n",
       "<table border=\"1\" class=\"dataframe\">\n",
       "  <thead>\n",
       "    <tr>\n",
       "      <th></th>\n",
       "      <th colspan=\"3\" halign=\"left\">No Data Processing</th>\n",
       "      <th colspan=\"3\" halign=\"left\">Normalization</th>\n",
       "      <th colspan=\"3\" halign=\"left\">Transformation</th>\n",
       "      <th colspan=\"3\" halign=\"left\">PCA</th>\n",
       "      <th colspan=\"3\" halign=\"left\">T+N</th>\n",
       "      <th colspan=\"3\" halign=\"left\">T+N+PCA</th>\n",
       "    </tr>\n",
       "    <tr>\n",
       "      <th></th>\n",
       "      <th>3</th>\n",
       "      <th>4</th>\n",
       "      <th>5</th>\n",
       "      <th>3</th>\n",
       "      <th>4</th>\n",
       "      <th>5</th>\n",
       "      <th>3</th>\n",
       "      <th>4</th>\n",
       "      <th>5</th>\n",
       "      <th>3</th>\n",
       "      <th>4</th>\n",
       "      <th>5</th>\n",
       "      <th>3</th>\n",
       "      <th>4</th>\n",
       "      <th>5</th>\n",
       "      <th>3</th>\n",
       "      <th>4</th>\n",
       "      <th>5</th>\n",
       "    </tr>\n",
       "  </thead>\n",
       "  <tbody>\n",
       "    <tr>\n",
       "      <th>Silhouette</th>\n",
       "      <td>0.551192</td>\n",
       "      <td>0.497643</td>\n",
       "      <td>0.493080</td>\n",
       "      <td>0.479881</td>\n",
       "      <td>0.385045</td>\n",
       "      <td>0.345033</td>\n",
       "      <td>0.551192</td>\n",
       "      <td>0.497643</td>\n",
       "      <td>0.493080</td>\n",
       "      <td>0.597676</td>\n",
       "      <td>0.557741</td>\n",
       "      <td>0.510041</td>\n",
       "      <td>0.353640</td>\n",
       "      <td>0.304965</td>\n",
       "      <td>0.258262</td>\n",
       "      <td>0.522791</td>\n",
       "      <td>0.445187</td>\n",
       "      <td>0.411085</td>\n",
       "    </tr>\n",
       "    <tr>\n",
       "      <th>Calinski-Harabasz</th>\n",
       "      <td>561.593732</td>\n",
       "      <td>529.529095</td>\n",
       "      <td>495.243414</td>\n",
       "      <td>157.360153</td>\n",
       "      <td>206.680603</td>\n",
       "      <td>202.635850</td>\n",
       "      <td>561.593732</td>\n",
       "      <td>529.529095</td>\n",
       "      <td>495.243414</td>\n",
       "      <td>693.708433</td>\n",
       "      <td>719.123544</td>\n",
       "      <td>642.060666</td>\n",
       "      <td>55.559954</td>\n",
       "      <td>47.396572</td>\n",
       "      <td>43.528210</td>\n",
       "      <td>180.975460</td>\n",
       "      <td>263.884045</td>\n",
       "      <td>278.451395</td>\n",
       "    </tr>\n",
       "    <tr>\n",
       "      <th>Davies-Bouldin</th>\n",
       "      <td>0.666039</td>\n",
       "      <td>0.754140</td>\n",
       "      <td>0.819384</td>\n",
       "      <td>0.789363</td>\n",
       "      <td>0.869779</td>\n",
       "      <td>0.943894</td>\n",
       "      <td>0.666039</td>\n",
       "      <td>0.754140</td>\n",
       "      <td>0.819384</td>\n",
       "      <td>0.564816</td>\n",
       "      <td>0.615069</td>\n",
       "      <td>0.752500</td>\n",
       "      <td>1.027606</td>\n",
       "      <td>1.109050</td>\n",
       "      <td>1.140480</td>\n",
       "      <td>0.739126</td>\n",
       "      <td>0.744669</td>\n",
       "      <td>0.780293</td>\n",
       "    </tr>\n",
       "  </tbody>\n",
       "</table>\n",
       "</div>"
      ],
      "text/plain": [
       "                  No Data Processing                         Normalization  \\\n",
       "                                   3           4           5             3   \n",
       "Silhouette                  0.551192    0.497643    0.493080      0.479881   \n",
       "Calinski-Harabasz         561.593732  529.529095  495.243414    157.360153   \n",
       "Davies-Bouldin              0.666039    0.754140    0.819384      0.789363   \n",
       "\n",
       "                                          Transformation              \\\n",
       "                            4           5              3           4   \n",
       "Silhouette           0.385045    0.345033       0.551192    0.497643   \n",
       "Calinski-Harabasz  206.680603  202.635850     561.593732  529.529095   \n",
       "Davies-Bouldin       0.869779    0.943894       0.666039    0.754140   \n",
       "\n",
       "                                      PCA                                T+N  \\\n",
       "                            5           3           4           5          3   \n",
       "Silhouette           0.493080    0.597676    0.557741    0.510041   0.353640   \n",
       "Calinski-Harabasz  495.243414  693.708433  719.123544  642.060666  55.559954   \n",
       "Davies-Bouldin       0.819384    0.564816    0.615069    0.752500   1.027606   \n",
       "\n",
       "                                            T+N+PCA                          \n",
       "                           4          5           3           4           5  \n",
       "Silhouette          0.304965   0.258262    0.522791    0.445187    0.411085  \n",
       "Calinski-Harabasz  47.396572  43.528210  180.975460  263.884045  278.451395  \n",
       "Davies-Bouldin      1.109050   1.140480    0.739126    0.744669    0.780293  "
      ]
     },
     "execution_count": 14,
     "metadata": {},
     "output_type": "execute_result"
    }
   ],
   "source": [
    "new"
   ]
  },
  {
   "cell_type": "code",
   "execution_count": 15,
   "metadata": {},
   "outputs": [],
   "source": [
    "new.to_csv('KMeans.csv')"
   ]
  },
  {
   "cell_type": "code",
   "execution_count": null,
   "metadata": {},
   "outputs": [],
   "source": []
  }
 ],
 "metadata": {
  "kernelspec": {
   "display_name": "Python 3",
   "language": "python",
   "name": "python3"
  },
  "language_info": {
   "codemirror_mode": {
    "name": "ipython",
    "version": 3
   },
   "file_extension": ".py",
   "mimetype": "text/x-python",
   "name": "python",
   "nbconvert_exporter": "python",
   "pygments_lexer": "ipython3",
   "version": "3.9.6"
  }
 },
 "nbformat": 4,
 "nbformat_minor": 2
}
